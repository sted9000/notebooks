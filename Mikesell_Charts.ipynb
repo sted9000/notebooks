{
 "cells": [
  {
   "cell_type": "markdown",
   "metadata": {},
   "source": [
    "# Mikesell Charts Prototype\n",
    "These charts aim to do at least two things:\n",
    "1. Show the general shape of your strategy\n",
    "2. Look at sub-range strategies\n",
    "\n",
    "This prototype's aim is to give an idea of the parts and pieces needed to create these charts programmatically"
   ]
  },
  {
   "cell_type": "markdown",
   "metadata": {},
   "source": [
    "## User Inputs\n",
    "What parameters do we need from the user?"
   ]
  },
  {
   "cell_type": "code",
   "execution_count": 1,
   "metadata": {},
   "outputs": [],
   "source": [
    "import ipywidgets as widgets\n",
    "from IPython.display import display"
   ]
  },
  {
   "cell_type": "code",
   "execution_count": 2,
   "metadata": {},
   "outputs": [],
   "source": [
    "street = widgets.Select(\n",
    "    options=['Flop'],\n",
    "    value='Flop',\n",
    "    description='Street: ')"
   ]
  },
  {
   "cell_type": "code",
   "execution_count": 3,
   "metadata": {},
   "outputs": [],
   "source": [
    "board = widgets.Select(\n",
    "    options=['Ks7s6d'],\n",
    "    value='Ks7s6d',\n",
    "    description='Board: ')"
   ]
  },
  {
   "cell_type": "code",
   "execution_count": 4,
   "metadata": {},
   "outputs": [],
   "source": [
    "preflop = widgets.Select(\n",
    "    options=['3bp'],\n",
    "    value='3bp',\n",
    "    description='Preflop: ')"
   ]
  },
  {
   "cell_type": "code",
   "execution_count": 5,
   "metadata": {},
   "outputs": [],
   "source": [
    "positions = widgets.Select(\n",
    "    options=['BN v SB'],\n",
    "    value='BN v SB',\n",
    "    description='Positions: ')"
   ]
  },
  {
   "cell_type": "code",
   "execution_count": 6,
   "metadata": {},
   "outputs": [],
   "source": [
    "vilains_action = widgets.Select(\n",
    "    options=['OP'],\n",
    "    value='OP',\n",
    "    description=\"Hero's Position: \")"
   ]
  },
  {
   "cell_type": "code",
   "execution_count": 7,
   "metadata": {},
   "outputs": [
    {
     "data": {
      "application/vnd.jupyter.widget-view+json": {
       "model_id": "49171532c9c848f899c4ce54494f53d3",
       "version_major": 2,
       "version_minor": 0
      },
      "text/plain": [
       "Select(description='Street: ', options=('Flop',), value='Flop')"
      ]
     },
     "metadata": {},
     "output_type": "display_data"
    },
    {
     "data": {
      "application/vnd.jupyter.widget-view+json": {
       "model_id": "bddd30c5d8a64aa1b7652d5ba205ba80",
       "version_major": 2,
       "version_minor": 0
      },
      "text/plain": [
       "Select(description='Board: ', options=('Ks7s6d',), value='Ks7s6d')"
      ]
     },
     "metadata": {},
     "output_type": "display_data"
    },
    {
     "data": {
      "application/vnd.jupyter.widget-view+json": {
       "model_id": "080399694d2a4a4ba1b606960c4a993a",
       "version_major": 2,
       "version_minor": 0
      },
      "text/plain": [
       "Select(description='Preflop: ', options=('3bp',), value='3bp')"
      ]
     },
     "metadata": {},
     "output_type": "display_data"
    },
    {
     "data": {
      "application/vnd.jupyter.widget-view+json": {
       "model_id": "abe24e0c87c34ecb9ed1ae53a91c29f4",
       "version_major": 2,
       "version_minor": 0
      },
      "text/plain": [
       "Select(description='Positions: ', options=('BN v SB',), value='BN v SB')"
      ]
     },
     "metadata": {},
     "output_type": "display_data"
    },
    {
     "data": {
      "application/vnd.jupyter.widget-view+json": {
       "model_id": "c16b031156dc443e80e20414ea554ee9",
       "version_major": 2,
       "version_minor": 0
      },
      "text/plain": [
       "Select(description=\"Hero's Position: \", options=('OP',), value='OP')"
      ]
     },
     "metadata": {},
     "output_type": "display_data"
    }
   ],
   "source": [
    "display(street, board, preflop, positions, vilains_action)"
   ]
  },
  {
   "cell_type": "markdown",
   "metadata": {},
   "source": [
    "Notes:\n",
    "- Start with only one flop spot\n",
    "- Do with 100 flops\n",
    "- Start with 3b or 4bps for simplicity"
   ]
  },
  {
   "cell_type": "markdown",
   "metadata": {},
   "source": [
    "## Generate Sub-Ranges\n",
    "Here we want to break down ranges into 'meaningful' sub-ranges.\n",
    "- Digestible (not too many)\n",
    "- Distinct (not overlapping)\n",
    "- Understandable (why is solver doing that?)\n",
    "\n",
    "For example, this graph helps the user see that there is a difference in top-set vs middle and bottom-set. It also show that you often will pot top-two but rarely bottom-two.\n",
    "\n",
    "Sub-ranges will be generated programmatically rather than manually."
   ]
  },
  {
   "cell_type": "code",
   "execution_count": 8,
   "metadata": {},
   "outputs": [],
   "source": [
    "def create_line_plot(sub_range_labels, data):\n",
    "    y_pos = np.arange(len(sub_range_labels))\n",
    "    half = np.array([x[1] for x in data[vilains_action.value]])\n",
    "    pot = np.array([x[2] for x in data[vilains_action.value]])\n",
    "    adj_half = np.array([x[1] for x in data['Adjust']])\n",
    "    adj_pot = np.array([x[2] for x in data['Adjust']])\n",
    "    \n",
    "    p0 = plt.plot(y_pos, half+pot, color='C2')\n",
    "    p1 = plt.plot(y_pos, adj_half+adj_pot, color='C3')\n",
    "    \n",
    "    plt.xticks(y_pos, sub_range_labels)\n",
    "    plt.title('Betting Frequency')\n",
    "    plt.xlabel('Sub-Range')\n",
    "    plt.ylabel('%')\n",
    "    plt.legend(['vs ch/50/100', 'vs ch/100'], loc='best')\n",
    "    plt.show()   "
   ]
  },
  {
   "cell_type": "code",
   "execution_count": 9,
   "metadata": {},
   "outputs": [],
   "source": [
    "def trips():\n",
    "    trips_list = []\n",
    "    for i, rank in enumerate([x for i, x in enumerate(board.value) if i % 2 == 0]):\n",
    "        temp_list = []\n",
    "        temp_list.append(f'{rank}{rank}')\n",
    "        \n",
    "        if i == 0:\n",
    "            ppt_exclude = ''\n",
    "        elif i == 1:\n",
    "            ppt_exclude = f'!{board.value[i*2-2]}{board.value[i*2-2]}'\n",
    "        else:\n",
    "            ppt_exclude = f'!({board.value[i*2-4]}{board.value[i*2-4]},{board.value[i*2-2]}{board.value[i*2-2]})'\n",
    "            \n",
    "        ppt = f'{rank}{rank}{ppt_exclude}'\n",
    "        temp_list.append(ppt)\n",
    "\n",
    "            \n",
    "        trips_list.append(temp_list)\n",
    "        \n",
    "    return trips_list\n",
    "    "
   ]
  },
  {
   "cell_type": "code",
   "execution_count": 10,
   "metadata": {},
   "outputs": [],
   "source": [
    "def two_pair():\n",
    "    A = board.value[0]\n",
    "    B = board.value[2]\n",
    "    C = board.value[4]\n",
    "    \n",
    "    exclude_base = f'!({A}{A},{B}{B},{C}{C}'\n",
    "    top_two = [f'{A}{B}', f'{A}{B}{exclude_base})']\n",
    "    top_bottom = [f'{A}{C}', f'{A}{C}{exclude_base},{A}{B})']\n",
    "    bottom_two = [f'{B}{C}', f'{A}{B}{exclude_base},{A}{B},{A}{C})']\n",
    "    \n",
    "    return [top_two, top_bottom, bottom_two]\n",
    "    \n",
    "    \n",
    "        "
   ]
  },
  {
   "cell_type": "markdown",
   "metadata": {},
   "source": [
    "## Model the Output\n",
    "The output can come in multiple formats.\n",
    "\n",
    "I find that a bar chart when there are multiple bet sizes is nice. (Hero vs GTO)\n",
    "\n",
    "And a line chart when comparing hero's strategy vs differing opponent stategies. (vMultiple Strats)"
   ]
  },
  {
   "cell_type": "code",
   "execution_count": 11,
   "metadata": {},
   "outputs": [],
   "source": [
    "import matplotlib.pyplot as plt\n",
    "import numpy as np"
   ]
  },
  {
   "cell_type": "code",
   "execution_count": 12,
   "metadata": {},
   "outputs": [],
   "source": [
    "def create_plot(sub_range_labels, data):\n",
    "    y_pos = np.arange(len(sub_range_labels))\n",
    "    checks = np.array([x[0] for x in data])\n",
    "    half = np.array([x[1] for x in data])\n",
    "    pot = np.array([x[2] for x in data])\n",
    "\n",
    "    p0 = plt.bar(y_pos, half, align='center', alpha=0.5)\n",
    "    p1 = plt.bar(y_pos, pot, align='center', alpha=0.5, bottom=half)\n",
    "    \n",
    "    plt.xticks(y_pos, sub_range_labels)\n",
    "    plt.xlabel('Sub-Range')\n",
    "    plt.ylabel('%')\n",
    "    plt.title('Betting Frequencies and Size vs ch/50/100')\n",
    "    plt.legend(['Half', 'Pot'], loc='best')\n",
    "\n",
    "    plt.show()"
   ]
  },
  {
   "cell_type": "code",
   "execution_count": 13,
   "metadata": {},
   "outputs": [],
   "source": [
    "output = widgets.Output()"
   ]
  },
  {
   "cell_type": "code",
   "execution_count": 14,
   "metadata": {},
   "outputs": [],
   "source": [
    "data = {\n",
    "    \"OP\": [[50.7, 38.4, 10.9], [0.6, 99.4, 0], [7.4, 92.6, 0], [20.2, 34.6, 45.2], [38.0, 38.4, 23.5], [52.5, 41.1, 6.4]],\n",
    "    \"Adjust\": [[48.1, 36.5, 15.4], [10, 90, 0], [24, 76, 0], [19.9, 33.2, 46.9], [42.6, 37.1, 20.3], [61.1, 31.5, 7.4]]\n",
    "}"
   ]
  },
  {
   "cell_type": "code",
   "execution_count": 15,
   "metadata": {},
   "outputs": [],
   "source": [
    "def on_post_button_click(b):\n",
    "    with output:\n",
    "        \n",
    "        trip_list = trips()\n",
    "        two_pair_list = two_pair()\n",
    "        sub_range_labels = [x[0] for x in trip_list + two_pair_list]        \n",
    "        create_plot(sub_range_labels, data[vilains_action.value])\n"
   ]
  },
  {
   "cell_type": "code",
   "execution_count": 16,
   "metadata": {},
   "outputs": [],
   "source": [
    "post_button = widgets.Button(\n",
    "    description='Hero vs GTO')"
   ]
  },
  {
   "cell_type": "code",
   "execution_count": 17,
   "metadata": {},
   "outputs": [],
   "source": [
    "post_button.on_click(on_post_button_click)"
   ]
  },
  {
   "cell_type": "code",
   "execution_count": 18,
   "metadata": {},
   "outputs": [
    {
     "data": {
      "application/vnd.jupyter.widget-view+json": {
       "model_id": "7dc7ecf3cecd4952b9deb3d3000453b1",
       "version_major": 2,
       "version_minor": 0
      },
      "text/plain": [
       "Button(description='Hero vs GTO', style=ButtonStyle())"
      ]
     },
     "metadata": {},
     "output_type": "display_data"
    }
   ],
   "source": [
    "display(post_button)"
   ]
  },
  {
   "cell_type": "code",
   "execution_count": 19,
   "metadata": {},
   "outputs": [],
   "source": [
    "def on_line_button_click(b):\n",
    "    with output:\n",
    "        \n",
    "        trip_list = trips()\n",
    "        two_pair_list = two_pair()\n",
    "        sub_range_labels = [x[0] for x in trip_list + two_pair_list]        \n",
    "        create_line_plot(sub_range_labels, data)\n"
   ]
  },
  {
   "cell_type": "code",
   "execution_count": 20,
   "metadata": {},
   "outputs": [],
   "source": [
    "line_button = widgets.Button(\n",
    "    description='vMultiple Strats')"
   ]
  },
  {
   "cell_type": "code",
   "execution_count": 21,
   "metadata": {},
   "outputs": [],
   "source": [
    "line_button.on_click(on_line_button_click)"
   ]
  },
  {
   "cell_type": "code",
   "execution_count": 22,
   "metadata": {},
   "outputs": [
    {
     "data": {
      "application/vnd.jupyter.widget-view+json": {
       "model_id": "814951911f9145fda00cf5ad7b70728c",
       "version_major": 2,
       "version_minor": 0
      },
      "text/plain": [
       "Button(description='vMultiple Strats', style=ButtonStyle())"
      ]
     },
     "metadata": {},
     "output_type": "display_data"
    },
    {
     "data": {
      "application/vnd.jupyter.widget-view+json": {
       "model_id": "e6330024918a4abbab1aed12d2eeb206",
       "version_major": 2,
       "version_minor": 0
      },
      "text/plain": [
       "Output()"
      ]
     },
     "metadata": {},
     "output_type": "display_data"
    }
   ],
   "source": [
    "display(line_button, output)"
   ]
  }
 ],
 "metadata": {
  "kernelspec": {
   "display_name": "Python 3",
   "language": "python",
   "name": "python3"
  },
  "language_info": {
   "codemirror_mode": {
    "name": "ipython",
    "version": 3
   },
   "file_extension": ".py",
   "mimetype": "text/x-python",
   "name": "python",
   "nbconvert_exporter": "python",
   "pygments_lexer": "ipython3",
   "version": "3.8.5"
  }
 },
 "nbformat": 4,
 "nbformat_minor": 4
}
