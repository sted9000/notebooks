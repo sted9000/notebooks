{
 "cells": [
  {
   "cell_type": "markdown",
   "metadata": {},
   "source": [
    "# Mikesell Charts\n",
    "The idea is to easily create information rich charts looking at range vs. range situations in PLO\n",
    "### This prototype will:\n",
    "- Model user inputs\n",
    "- Generate sub-ranges given users inputs\n",
    "- Model the graphical output"
   ]
  },
  {
   "cell_type": "markdown",
   "metadata": {},
   "source": [
    "## User Inputs"
   ]
  },
  {
   "cell_type": "code",
   "execution_count": 1,
   "metadata": {},
   "outputs": [],
   "source": [
    "import ipywidgets as widgets\n",
    "from IPython.display import display"
   ]
  },
  {
   "cell_type": "code",
   "execution_count": 2,
   "metadata": {},
   "outputs": [],
   "source": [
    "street = widgets.Select(\n",
    "    options=['Flop'],\n",
    "    value='Flop',\n",
    "    description='Street: ')"
   ]
  },
  {
   "cell_type": "code",
   "execution_count": 3,
   "metadata": {},
   "outputs": [],
   "source": [
    "board = widgets.Select(\n",
    "    options=['Ks7s6d'],\n",
    "    value='Ks7s6d',\n",
    "    description='Board: ')"
   ]
  },
  {
   "cell_type": "code",
   "execution_count": 4,
   "metadata": {},
   "outputs": [],
   "source": [
    "preflop = widgets.Select(\n",
    "    options=['3bp'],\n",
    "    value='3bp',\n",
    "    description='Preflop: ')"
   ]
  },
  {
   "cell_type": "code",
   "execution_count": 5,
   "metadata": {},
   "outputs": [],
   "source": [
    "positions = widgets.Select(\n",
    "    options=['BN v SB'],\n",
    "    value='BN v SB',\n",
    "    description='Positions: ')"
   ]
  },
  {
   "cell_type": "code",
   "execution_count": 6,
   "metadata": {},
   "outputs": [],
   "source": [
    "vilains_action = widgets.Select(\n",
    "    options=['IP', 'Checked', 'Bet'],\n",
    "    value='IP',\n",
    "    description=\"Vilain's action: \")"
   ]
  },
  {
   "cell_type": "code",
   "execution_count": 7,
   "metadata": {},
   "outputs": [],
   "source": [
    "def on_post_button_click(b):\n",
    "    print(vilains_action.value)\n",
    "    return None"
   ]
  },
  {
   "cell_type": "code",
   "execution_count": 8,
   "metadata": {},
   "outputs": [],
   "source": [
    "post_button = widgets.Button(\n",
    "    description='Generate Chart')"
   ]
  },
  {
   "cell_type": "code",
   "execution_count": 9,
   "metadata": {},
   "outputs": [],
   "source": [
    "post_button.on_click(on_post_button_click)"
   ]
  },
  {
   "cell_type": "code",
   "execution_count": 10,
   "metadata": {},
   "outputs": [
    {
     "data": {
      "application/vnd.jupyter.widget-view+json": {
       "model_id": "4ad956eb731c42b79e4781a065dacbfd",
       "version_major": 2,
       "version_minor": 0
      },
      "text/plain": [
       "Select(description='Street: ', options=('Flop',), value='Flop')"
      ]
     },
     "metadata": {},
     "output_type": "display_data"
    },
    {
     "data": {
      "application/vnd.jupyter.widget-view+json": {
       "model_id": "37746373ab2640368d4ffbaf9d0d4a34",
       "version_major": 2,
       "version_minor": 0
      },
      "text/plain": [
       "Select(description='Board: ', options=('Ks7s6d',), value='Ks7s6d')"
      ]
     },
     "metadata": {},
     "output_type": "display_data"
    },
    {
     "data": {
      "application/vnd.jupyter.widget-view+json": {
       "model_id": "cdb03fde13f1452280bf1c0b9579c28c",
       "version_major": 2,
       "version_minor": 0
      },
      "text/plain": [
       "Select(description='Preflop: ', options=('3bp',), value='3bp')"
      ]
     },
     "metadata": {},
     "output_type": "display_data"
    },
    {
     "data": {
      "application/vnd.jupyter.widget-view+json": {
       "model_id": "17b5ebbddc054856bbe2b8bf29f0f580",
       "version_major": 2,
       "version_minor": 0
      },
      "text/plain": [
       "Select(description='Positions: ', options=('BN v SB',), value='BN v SB')"
      ]
     },
     "metadata": {},
     "output_type": "display_data"
    },
    {
     "data": {
      "application/vnd.jupyter.widget-view+json": {
       "model_id": "be9fc45917534b418d7e96a681a17550",
       "version_major": 2,
       "version_minor": 0
      },
      "text/plain": [
       "Select(description=\"Vilain's action: \", options=('IP', 'Checked', 'Bet'), value='IP')"
      ]
     },
     "metadata": {},
     "output_type": "display_data"
    },
    {
     "data": {
      "application/vnd.jupyter.widget-view+json": {
       "model_id": "898d82941ca044acb5bb077ffa7a3e22",
       "version_major": 2,
       "version_minor": 0
      },
      "text/plain": [
       "Button(description='Generate Chart', style=ButtonStyle())"
      ]
     },
     "metadata": {},
     "output_type": "display_data"
    }
   ],
   "source": [
    "display(street, board, preflop, positions, vilains_action, post_button)"
   ]
  },
  {
   "cell_type": "markdown",
   "metadata": {},
   "source": [
    "## Generate Sub-Ranges\n",
    "### Here we want to break down ranges into 'meaningful' sub-ranges. What does meaningful mean?\n",
    "- Digestible (not too many)\n",
    "- Distinct (not overlapping)\n",
    "- Understandable (why is solver doing that?)\n",
    "\n",
    "Input: Board. Example 'Ks7s6d\n",
    "\n",
    "Output: List of lists. Inner list is [nominal sub-range, ppt sub-range]. Example [['KK', 'KK'], ['77', '77!KK'], ...]"
   ]
  },
  {
   "cell_type": "code",
   "execution_count": 11,
   "metadata": {},
   "outputs": [],
   "source": [
    "def trips():\n",
    "    trips_list = []\n",
    "    for i, rank in enumerate([x for i, x in enumerate(board.value) if i % 2 == 0]):\n",
    "        temp_list = []\n",
    "        temp_list.append(f'{rank}{rank}')\n",
    "        \n",
    "        if i == 0:\n",
    "            ppt_exclude = ''\n",
    "        elif i == 1:\n",
    "            ppt_exclude = f'!{board.value[i*2-2]}{board.value[i*2-2]}'\n",
    "        else:\n",
    "            ppt_exclude = f'!({board.value[i*2-4]}{board.value[i*2-4]},{board.value[i*2-2]}{board.value[i*2-2]})'\n",
    "            \n",
    "        ppt = f'{rank}{rank}{ppt_exclude}'\n",
    "        temp_list.append(ppt)\n",
    "\n",
    "            \n",
    "        trips_list.append(temp_list)\n",
    "        \n",
    "    return trips_list\n",
    "    "
   ]
  },
  {
   "cell_type": "code",
   "execution_count": 12,
   "metadata": {},
   "outputs": [],
   "source": [
    "def two_pair():\n",
    "    A = board.value[0]\n",
    "    B = board.value[2]\n",
    "    C = board.value[4]\n",
    "    \n",
    "    exclude_base = f'!({A}{A},{B}{B},{C}{C}'\n",
    "    top_two = [f'{A}{B}', f'{A}{B}{exclude_base})']\n",
    "    top_bottom = [f'{A}{C}', f'{A}{C}{exclude_base},{A}{B})']\n",
    "    bottom_two = [f'{B}{C}', f'{A}{B}{exclude_base},{A}{B},{A}{C})']\n",
    "    \n",
    "    return [top_two, top_bottom, bottom_two]\n",
    "    \n",
    "    \n",
    "        "
   ]
  },
  {
   "cell_type": "code",
   "execution_count": 13,
   "metadata": {},
   "outputs": [],
   "source": [
    "trip_list = trips()\n",
    "two_pair_list = two_pair()\n",
    "sub_range_labels = [x[0] for x in trip_list + two_pair_list]\n",
    "data = [[50.7, 38.4, 10.9], [0.6, 99.4, 0], [7.4, 92.6, 0], [20.2, 34.6, 45.2], [38.0, 38.4, 23.5], [52.5, 41.1, 6.4]]"
   ]
  },
  {
   "cell_type": "markdown",
   "metadata": {},
   "source": [
    "## Model the Output"
   ]
  },
  {
   "cell_type": "code",
   "execution_count": 14,
   "metadata": {},
   "outputs": [],
   "source": [
    "import matplotlib.pyplot as plt\n",
    "import numpy as np"
   ]
  },
  {
   "cell_type": "code",
   "execution_count": 15,
   "metadata": {},
   "outputs": [
    {
     "data": {
      "image/png": "[encoded data removed]",
      "text/plain": [
       "<Figure size 432x288 with 1 Axes>"
      ]
     },
     "metadata": {
      "needs_background": "light"
     },
     "output_type": "display_data"
    }
   ],
   "source": [
    "y_pos = np.arange(len(sub_range_labels))\n",
    "checks = np.array([x[0] for x in data])\n",
    "half = np.array([x[1] for x in data])\n",
    "pot = np.array([x[2] for x in data])\n",
    "\n",
    "p3 = plt.bar(y_pos, pot, align='center', alpha=0.5, bottom=checks+half)\n",
    "p2 = plt.bar(y_pos, half, align='center', alpha=0.5, bottom=checks)\n",
    "p1 = plt.bar(y_pos, checks, align='center', alpha=0.5)\n",
    "\n",
    "plt.xticks(y_pos, sub_range_labels)\n",
    "plt.ylabel('Usage')\n",
    "plt.title('Programming language usage')\n",
    "\n",
    "plt.show()"
   ]
  },
  {
   "cell_type": "code",
   "execution_count": null,
   "metadata": {},
   "outputs": [],
   "source": []
  }
 ],
 "metadata": {
  "kernelspec": {
   "display_name": "Python 3",
   "language": "python",
   "name": "python3"
  },
  "language_info": {
   "codemirror_mode": {
    "name": "ipython",
    "version": 3
   },
   "file_extension": ".py",
   "mimetype": "text/x-python",
   "name": "python",
   "nbconvert_exporter": "python",
   "pygments_lexer": "ipython3",
   "version": "3.8.5"
  }
 },
 "nbformat": 4,
 "nbformat_minor": 4
}
